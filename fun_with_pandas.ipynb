{
 "cells": [
  {
   "cell_type": "markdown",
   "id": "67abb133",
   "metadata": {},
   "source": [
    "# Lab 03: Fun with `pandas`!"
   ]
  },
  {
   "cell_type": "markdown",
   "id": "0e4b3b08",
   "metadata": {},
   "source": [
    "Below are some exercises to get you working with `pandas` to manipulate data. As always, get as far as you can, and ask for help when you need it! Your teacher (me), you instructor, and your classmates are all here to help each other get better at coding. Getting the code to work is important, but do also take the time to make sure you understand what the commands are doing. This time, (with the exception of the Stroop challenge), all I've given you is the code to download the data. Then you are on your own. For the Stroop challenge, I gave the you code for the first step—after that, it's up to you :-)"
   ]
  },
  {
   "cell_type": "markdown",
   "id": "c3b21217",
   "metadata": {},
   "source": [
    "## Music sales challenge\n",
    "\n",
    "Write a script that:\n",
    "\n",
    "1. Combines the tables of best-selling physical singles and best-selling digital singles on the Wikipedia page \"List_of_best-selling_singles\"\n",
    "2. Adds a column which marks whether each row is from the list of physical singles or digital singles\n",
    "3. Outputs the artist and single name for the year you were born. If there is no entry for that year, take the closest year after you were born.\n",
    "4. Outputs the artist and single name for the year you were 15 years old."
   ]
  },
  {
   "cell_type": "code",
   "execution_count": 1,
   "id": "a20efc57",
   "metadata": {},
   "outputs": [],
   "source": [
    "# Starter code...\n",
    "\n",
    "#%pip install lxml\n",
    "import pandas as pd\n",
    "\n",
    "rawdata = pd.read_html(\"https://en.wikipedia.org/wiki/List_of_best-selling_singles\")"
   ]
  },
  {
   "cell_type": "code",
   "execution_count": 10,
   "id": "31e8bde7",
   "metadata": {},
   "outputs": [
    {
     "name": "stdout",
     "output_type": "stream",
     "text": [
      "One song found for the closest year (2003):\n"
     ]
    },
    {
     "data": {
      "text/html": [
       "<div>\n",
       "<style scoped>\n",
       "    .dataframe tbody tr th:only-of-type {\n",
       "        vertical-align: middle;\n",
       "    }\n",
       "\n",
       "    .dataframe tbody tr th {\n",
       "        vertical-align: top;\n",
       "    }\n",
       "\n",
       "    .dataframe thead th {\n",
       "        text-align: right;\n",
       "    }\n",
       "</style>\n",
       "<table border=\"1\" class=\"dataframe\">\n",
       "  <thead>\n",
       "    <tr style=\"text-align: right;\">\n",
       "      <th></th>\n",
       "      <th>Artist</th>\n",
       "      <th>Single</th>\n",
       "    </tr>\n",
       "  </thead>\n",
       "  <tbody>\n",
       "    <tr>\n",
       "      <th>40</th>\n",
       "      <td>O-Zone</td>\n",
       "      <td>\"Dragostea din tei\"</td>\n",
       "    </tr>\n",
       "  </tbody>\n",
       "</table>\n",
       "</div>"
      ],
      "text/plain": [
       "    Artist               Single\n",
       "40  O-Zone  \"Dragostea din tei\""
      ]
     },
     "execution_count": 10,
     "metadata": {},
     "output_type": "execute_result"
    }
   ],
   "source": [
    "## Combining the tables of best selling singles - adding a column to identify the source - visual inspection of the wikipedia page for physical and digital sales\n",
    "best_selling_singles = pd.concat([rawdata[0], rawdata[3], rawdata[1], rawdata[4]], axis=0)\n",
    "\n",
    "best_selling_singles['source'] = (\n",
    "    ['physical'] * rawdata[0].shape[0] +\n",
    "    ['digital'] * rawdata[3].shape[0] +\n",
    "    ['physical'] * rawdata[1].shape[0] +\n",
    "    ['digital'] * rawdata[4].shape[0]\n",
    ")\n",
    "\n",
    "## Reset index\n",
    "\n",
    "best_selling_singles.reset_index(drop=True, inplace=True)\n",
    "\n",
    "\n",
    "## Function to output the artist and single names from 2001 - if no 2001, then the closest year to 2001\n",
    "\n",
    "def get_artist_and_single(year):\n",
    "    # checking year in the 'Released' column\n",
    "    if year in best_selling_singles['Released'].values:\n",
    "        # Recover songs from that particular year\n",
    "        songs_from_year = best_selling_singles[best_selling_singles['Released'] == year][['Artist', 'Single']]\n",
    "        \n",
    "        # We check if there are multiple songs from that year\n",
    "        if len(songs_from_year) > 1:\n",
    "            print(f\"Multiple songs found for {year}:\")\n",
    "\n",
    "        else:\n",
    "            print(f\"One song found for {year}:\")\n",
    "        \n",
    "        return songs_from_year\n",
    "    \n",
    "    else:\n",
    "        # if year not found, then find the closest year\n",
    "        best_selling_singles['abs_diff'] = (best_selling_singles['Released'] - year).abs()\n",
    "        closest_index = best_selling_singles['abs_diff'].idxmin()\n",
    "        closest_year = best_selling_singles.loc[closest_index, 'Released']\n",
    "        \n",
    "        # get all songs from the closest year\n",
    "        songs_from_closest_year = best_selling_singles[best_selling_singles['Released'] == closest_year][['Artist', 'Single']]\n",
    "        \n",
    "        # again we check \n",
    "        if len(songs_from_closest_year) > 1:\n",
    "            print(f\"Multiple songs found for the closest year ({closest_year}):\")\n",
    "        else:\n",
    "            print(f\"One song found for the closest year ({closest_year}):\")\n",
    "        \n",
    "        return songs_from_closest_year\n",
    "\n",
    "## When I was born\n",
    "\n",
    "get_artist_and_single(2001)\n",
    "\n",
    "\n"
   ]
  },
  {
   "cell_type": "code",
   "execution_count": 11,
   "id": "b18b7885",
   "metadata": {},
   "outputs": [
    {
     "name": "stdout",
     "output_type": "stream",
     "text": [
      "Multiple songs found for 2016:\n"
     ]
    },
    {
     "data": {
      "text/html": [
       "<div>\n",
       "<style scoped>\n",
       "    .dataframe tbody tr th:only-of-type {\n",
       "        vertical-align: middle;\n",
       "    }\n",
       "\n",
       "    .dataframe tbody tr th {\n",
       "        vertical-align: top;\n",
       "    }\n",
       "\n",
       "    .dataframe thead th {\n",
       "        text-align: right;\n",
       "    }\n",
       "</style>\n",
       "<table border=\"1\" class=\"dataframe\">\n",
       "  <thead>\n",
       "    <tr style=\"text-align: right;\">\n",
       "      <th></th>\n",
       "      <th>Artist</th>\n",
       "      <th>Single</th>\n",
       "    </tr>\n",
       "  </thead>\n",
       "  <tbody>\n",
       "    <tr>\n",
       "      <th>16</th>\n",
       "      <td>Rihanna featuring Drake</td>\n",
       "      <td>\"Work\"</td>\n",
       "    </tr>\n",
       "    <tr>\n",
       "      <th>20</th>\n",
       "      <td>The Chainsmokers featuring Halsey</td>\n",
       "      <td>\"Closer\"</td>\n",
       "    </tr>\n",
       "    <tr>\n",
       "      <th>30</th>\n",
       "      <td>Rihanna</td>\n",
       "      <td>\"Needed Me\"</td>\n",
       "    </tr>\n",
       "    <tr>\n",
       "      <th>78</th>\n",
       "      <td>Drake featuring Wizkid and Kyla</td>\n",
       "      <td>\"One Dance\"</td>\n",
       "    </tr>\n",
       "    <tr>\n",
       "      <th>90</th>\n",
       "      <td>Sia featuring Sean Paul</td>\n",
       "      <td>\"Cheap Thrills\"</td>\n",
       "    </tr>\n",
       "    <tr>\n",
       "      <th>98</th>\n",
       "      <td>The Chainsmokers featuring Daya</td>\n",
       "      <td>\"Don't Let Me Down\"</td>\n",
       "    </tr>\n",
       "  </tbody>\n",
       "</table>\n",
       "</div>"
      ],
      "text/plain": [
       "                               Artist               Single\n",
       "16            Rihanna featuring Drake               \"Work\"\n",
       "20  The Chainsmokers featuring Halsey             \"Closer\"\n",
       "30                            Rihanna          \"Needed Me\"\n",
       "78    Drake featuring Wizkid and Kyla          \"One Dance\"\n",
       "90            Sia featuring Sean Paul      \"Cheap Thrills\"\n",
       "98    The Chainsmokers featuring Daya  \"Don't Let Me Down\""
      ]
     },
     "execution_count": 11,
     "metadata": {},
     "output_type": "execute_result"
    }
   ],
   "source": [
    "## When I was 15\n",
    "\n",
    "get_artist_and_single(2016)"
   ]
  },
  {
   "cell_type": "markdown",
   "id": "eabc0ee7",
   "metadata": {},
   "source": [
    "## Space challenge\n",
    "\n",
    "1. Make a single dataframe that combines the space missions from the 1950's to the 2020's\n",
    "2. Write a script that returns the year with the most launches\n",
    "3. Write a script that returns the most common month for launches\n",
    "4. Write a script that ranks the months from most launches to fewest launches\n"
   ]
  },
  {
   "cell_type": "code",
   "execution_count": 44,
   "id": "e621adf3",
   "metadata": {},
   "outputs": [],
   "source": [
    "# Starter code...\n",
    "\n",
    "#%pip install lxml\n",
    "import pandas as pd\n",
    "\n",
    "rawdata = pd.read_html(\"https://en.wikipedia.org/wiki/Timeline_of_Solar_System_exploration\")"
   ]
  },
  {
   "cell_type": "code",
   "execution_count": 54,
   "id": "a4dbce9e",
   "metadata": {},
   "outputs": [
    {
     "name": "stdout",
     "output_type": "stream",
     "text": [
      "Year with the most missions: 1965\n"
     ]
    }
   ],
   "source": [
    "## Combine to df \n",
    "\n",
    "solar_system_exploration = pd.concat(rawdata, axis=0)\n",
    "\n",
    "## Checking year for max val\n",
    "\n",
    "## Split launch date after the second space - to create new column 'year'\n",
    "\n",
    "solar_system_exploration['year'] = solar_system_exploration['Launch date'].str.split(' ', n=2).str.get(2)\n",
    "\n",
    "## Convert year to numeric and then we count the number of missions per year\n",
    "\n",
    "solar_system_exploration['year'] = solar_system_exploration['year'].astype('Int64')\n",
    "missions_per_year = solar_system_exploration['year'].value_counts()\n",
    "\n",
    "print(f\"Year with the most missions: {missions_per_year.idxmax()}\")\n"
   ]
  },
  {
   "cell_type": "code",
   "execution_count": 56,
   "id": "120c187f",
   "metadata": {},
   "outputs": [
    {
     "name": "stdout",
     "output_type": "stream",
     "text": [
      "Month with the most missions: November\n"
     ]
    }
   ],
   "source": [
    "## Split launch after the first space - to create new column 'month'\n",
    "\n",
    "solar_system_exploration['month'] = solar_system_exploration['Launch date'].str.split(' ', n=2).str.get(1)\n",
    "\n",
    "## Count the number of missions per month\n",
    "\n",
    "missions_per_month = solar_system_exploration['month'].value_counts()\n",
    "\n",
    "print(f\"Month with the most missions: {missions_per_month.idxmax()}\")"
   ]
  },
  {
   "cell_type": "code",
   "execution_count": 60,
   "id": "1ad482e7",
   "metadata": {},
   "outputs": [
    {
     "name": "stdout",
     "output_type": "stream",
     "text": [
      "Ranking of months with the most missions from most to fewest: ['November', 'August', 'October', 'September', 'July', 'January', 'December', 'May', 'March', 'February', 'June', 'April']\n"
     ]
    }
   ],
   "source": [
    "## Ranking the missions_per_month from most to fewest \n",
    "\n",
    "missions_per_month_ranked = missions_per_month.sort_values(ascending=False)\n",
    "\n",
    "print(f\"Ranking of months with the most missions from most to fewest: {missions_per_month_ranked.index.tolist()}\")"
   ]
  },
  {
   "cell_type": "markdown",
   "id": "153096e0",
   "metadata": {},
   "source": [
    "## Supervillain challenge\n",
    "\n",
    "1. Write a script that combines the tables showing supervillain debuts from the 30's through the 2010's\n",
    "2. Write a script that ranks each decade in terms of how many supervillains debuted in that decade\n",
    "3. Write a script that ranks the different comics companies in terms of how many supervillains they have, and display the results in a nice table (pandas dataframe)"
   ]
  },
  {
   "cell_type": "code",
   "execution_count": 61,
   "id": "1ec41964",
   "metadata": {},
   "outputs": [],
   "source": [
    "rawdata = pd.read_html(\"https://en.wikipedia.org/wiki/List_of_comic_book_supervillain_debuts\")\n"
   ]
  },
  {
   "cell_type": "code",
   "execution_count": 68,
   "id": "d9956e8f",
   "metadata": {},
   "outputs": [
    {
     "name": "stdout",
     "output_type": "stream",
     "text": [
      "Decade with the most villains: 1960s\n",
      "Ranking of decades with the most villains from most to fewest: ['1960s', '1970s', '1980s', '1990s', '2000s', '1940s', '1950s', '2010s', '1930s']\n"
     ]
    }
   ],
   "source": [
    "## Combine to df\n",
    "\n",
    "comic_villains = pd.concat(rawdata, axis=0)\n",
    "\n",
    "## Extract year from year of debut\n",
    "\n",
    "comic_villains['year'] = comic_villains['Year Debuted'].str.extract(r'(\\d{4})')\n",
    "\n",
    "## Creating decade column \n",
    "\n",
    "comic_villains['decade'] = comic_villains['year'].str[:3] + '0s'\n",
    "\n",
    "## Counting the number of villains per decade and producing list of decades with the most villains\n",
    "\n",
    "villains_per_decade = comic_villains['decade'].value_counts()\n",
    "\n",
    "print(f\"Decade with the most villains debuts: {villains_per_decade.idxmax()}\")\n",
    "\n",
    "## Ranking the villains_per_decade from most to fewest\n",
    "\n",
    "villains_per_decade_ranked = villains_per_decade.sort_values(ascending=False)\n",
    "\n",
    "print(f\"Ranking of decades with the most villain debuts from most to fewest: {villains_per_decade_ranked.index.tolist()}\")"
   ]
  },
  {
   "cell_type": "code",
   "execution_count": 71,
   "id": "02493eaf",
   "metadata": {},
   "outputs": [
    {
     "name": "stdout",
     "output_type": "stream",
     "text": [
      "                          count\n",
      "Company                        \n",
      "DC                          338\n",
      "Marvel                      264\n",
      "Fawcett Comics/DC             6\n",
      "Image                         5\n",
      "Dark Horse                    5\n",
      "Marvel/Timely                 4\n",
      "Disney/Hyperion               4\n",
      "Eternity                      3\n",
      "Lev Gleason Publications      1\n",
      "Comico                        1\n",
      "Mirage                        1\n",
      "Image Comics                  1\n"
     ]
    }
   ],
   "source": [
    "## Ranking the comic companies by villains \n",
    "\n",
    "villains_per_company = comic_villains['Company'].value_counts()\n",
    "\n",
    "## Convert to pandas df\n",
    "\n",
    "villains_per_company = pd.DataFrame(villains_per_company)\n",
    "\n",
    "print(villains_per_company)"
   ]
  },
  {
   "cell_type": "markdown",
   "id": "a72c464a",
   "metadata": {},
   "source": [
    "## Stroop challenge\n",
    "\n",
    "Every year between 2015 and 2021, the students in my Language, Cognition, and the Brain course participated in a version of the Stroop task. Using a stopwatch (ok, using their phones), they recorded how fast they could say a list of things (either reading or naming colors or color words). The column names mean \"Reading with No Interference\", \"Naming with Interference\", \"Naming with No Interference\", and \"Reading with Interference\". The times are in seconds.\n",
    "\n",
    "### Stroop challenge 1: \n",
    "Transform these data from wide format to long format, so that the result is a dataframe with\n",
    "- 1 column named \"Participant_id\" with a unique number for each participant (you can use the row indices)\n",
    "- 1 column named \"Year\" with the year data\n",
    "- 1 column named \"Task\" that shows which task they were doing\n",
    "- 1 column named \"RT\" that shows their response time"
   ]
  },
  {
   "cell_type": "code",
   "execution_count": 79,
   "id": "6781809e",
   "metadata": {
    "scrolled": true
   },
   "outputs": [
    {
     "data": {
      "text/html": [
       "<div>\n",
       "<style scoped>\n",
       "    .dataframe tbody tr th:only-of-type {\n",
       "        vertical-align: middle;\n",
       "    }\n",
       "\n",
       "    .dataframe tbody tr th {\n",
       "        vertical-align: top;\n",
       "    }\n",
       "\n",
       "    .dataframe thead th {\n",
       "        text-align: right;\n",
       "    }\n",
       "</style>\n",
       "<table border=\"1\" class=\"dataframe\">\n",
       "  <thead>\n",
       "    <tr style=\"text-align: right;\">\n",
       "      <th></th>\n",
       "      <th>Reading_NoInt</th>\n",
       "      <th>Naming_Int</th>\n",
       "      <th>Naming_NoInt</th>\n",
       "      <th>Reading_Int</th>\n",
       "      <th>Year</th>\n",
       "    </tr>\n",
       "  </thead>\n",
       "  <tbody>\n",
       "    <tr>\n",
       "      <th>0</th>\n",
       "      <td>4.16</td>\n",
       "      <td>6.76</td>\n",
       "      <td>4.45</td>\n",
       "      <td>4.65</td>\n",
       "      <td>2015</td>\n",
       "    </tr>\n",
       "    <tr>\n",
       "      <th>1</th>\n",
       "      <td>4.35</td>\n",
       "      <td>7.73</td>\n",
       "      <td>4.78</td>\n",
       "      <td>4.46</td>\n",
       "      <td>2015</td>\n",
       "    </tr>\n",
       "    <tr>\n",
       "      <th>2</th>\n",
       "      <td>3.60</td>\n",
       "      <td>7.00</td>\n",
       "      <td>4.00</td>\n",
       "      <td>3.50</td>\n",
       "      <td>2015</td>\n",
       "    </tr>\n",
       "    <tr>\n",
       "      <th>3</th>\n",
       "      <td>3.90</td>\n",
       "      <td>9.03</td>\n",
       "      <td>4.60</td>\n",
       "      <td>6.30</td>\n",
       "      <td>2015</td>\n",
       "    </tr>\n",
       "    <tr>\n",
       "      <th>4</th>\n",
       "      <td>4.22</td>\n",
       "      <td>9.98</td>\n",
       "      <td>6.83</td>\n",
       "      <td>6.24</td>\n",
       "      <td>2015</td>\n",
       "    </tr>\n",
       "  </tbody>\n",
       "</table>\n",
       "</div>"
      ],
      "text/plain": [
       "   Reading_NoInt  Naming_Int  Naming_NoInt  Reading_Int  Year\n",
       "0           4.16        6.76          4.45         4.65  2015\n",
       "1           4.35        7.73          4.78         4.46  2015\n",
       "2           3.60        7.00          4.00         3.50  2015\n",
       "3           3.90        9.03          4.60         6.30  2015\n",
       "4           4.22        9.98          6.83         6.24  2015"
      ]
     },
     "execution_count": 79,
     "metadata": {},
     "output_type": "execute_result"
    }
   ],
   "source": [
    "# Starter code 1...\n",
    "\n",
    "df = pd.read_csv(\"https://raw.githubusercontent.com/ethanweed/Stroop/master/Stroop-raw-over-the-years.csv\")\n",
    "df.head()"
   ]
  },
  {
   "cell_type": "code",
   "execution_count": 80,
   "id": "710aac85",
   "metadata": {},
   "outputs": [],
   "source": [
    "## Making df into a long format from the wide format \n",
    "\n",
    "## Using row num as a id column, year as year, task being the reading_noint, naming_int, reading_int, naming_noint and RT as the value\n",
    "\n",
    "# Quick creation of column that is the row index\n",
    "\n",
    "df['id'] = df.index\n",
    "\n",
    "df_long = df.melt(id_vars=['id', 'Year'], value_vars=['Reading_NoInt', 'Naming_Int', 'Reading_Int', 'Naming_NoInt'], var_name='task', value_name='RT') \n"
   ]
  },
  {
   "cell_type": "code",
   "execution_count": 154,
   "id": "9e2e3507",
   "metadata": {},
   "outputs": [
    {
     "data": {
      "text/html": [
       "<div>\n",
       "<style scoped>\n",
       "    .dataframe tbody tr th:only-of-type {\n",
       "        vertical-align: middle;\n",
       "    }\n",
       "\n",
       "    .dataframe tbody tr th {\n",
       "        vertical-align: top;\n",
       "    }\n",
       "\n",
       "    .dataframe thead th {\n",
       "        text-align: right;\n",
       "    }\n",
       "</style>\n",
       "<table border=\"1\" class=\"dataframe\">\n",
       "  <thead>\n",
       "    <tr style=\"text-align: right;\">\n",
       "      <th></th>\n",
       "      <th>Participant_id</th>\n",
       "      <th>Reading_NoInt</th>\n",
       "      <th>Naming_Int</th>\n",
       "      <th>Naming_NoInt</th>\n",
       "      <th>Reading_Int</th>\n",
       "      <th>Year</th>\n",
       "    </tr>\n",
       "  </thead>\n",
       "  <tbody>\n",
       "    <tr>\n",
       "      <th>0</th>\n",
       "      <td>0</td>\n",
       "      <td>4.16</td>\n",
       "      <td>6.76</td>\n",
       "      <td>4.45</td>\n",
       "      <td>4.65</td>\n",
       "      <td>2015</td>\n",
       "    </tr>\n",
       "    <tr>\n",
       "      <th>1</th>\n",
       "      <td>1</td>\n",
       "      <td>4.35</td>\n",
       "      <td>7.73</td>\n",
       "      <td>4.78</td>\n",
       "      <td>4.46</td>\n",
       "      <td>2015</td>\n",
       "    </tr>\n",
       "    <tr>\n",
       "      <th>2</th>\n",
       "      <td>2</td>\n",
       "      <td>3.60</td>\n",
       "      <td>7.00</td>\n",
       "      <td>4.00</td>\n",
       "      <td>3.50</td>\n",
       "      <td>2015</td>\n",
       "    </tr>\n",
       "    <tr>\n",
       "      <th>3</th>\n",
       "      <td>3</td>\n",
       "      <td>3.90</td>\n",
       "      <td>9.03</td>\n",
       "      <td>4.60</td>\n",
       "      <td>6.30</td>\n",
       "      <td>2015</td>\n",
       "    </tr>\n",
       "    <tr>\n",
       "      <th>4</th>\n",
       "      <td>4</td>\n",
       "      <td>4.22</td>\n",
       "      <td>9.98</td>\n",
       "      <td>6.83</td>\n",
       "      <td>6.24</td>\n",
       "      <td>2015</td>\n",
       "    </tr>\n",
       "    <tr>\n",
       "      <th>...</th>\n",
       "      <td>...</td>\n",
       "      <td>...</td>\n",
       "      <td>...</td>\n",
       "      <td>...</td>\n",
       "      <td>...</td>\n",
       "      <td>...</td>\n",
       "    </tr>\n",
       "    <tr>\n",
       "      <th>177</th>\n",
       "      <td>177</td>\n",
       "      <td>4.30</td>\n",
       "      <td>7.08</td>\n",
       "      <td>6.25</td>\n",
       "      <td>4.28</td>\n",
       "      <td>2021</td>\n",
       "    </tr>\n",
       "    <tr>\n",
       "      <th>178</th>\n",
       "      <td>178</td>\n",
       "      <td>4.75</td>\n",
       "      <td>9.66</td>\n",
       "      <td>6.12</td>\n",
       "      <td>5.49</td>\n",
       "      <td>2021</td>\n",
       "    </tr>\n",
       "    <tr>\n",
       "      <th>179</th>\n",
       "      <td>179</td>\n",
       "      <td>4.98</td>\n",
       "      <td>7.52</td>\n",
       "      <td>6.73</td>\n",
       "      <td>5.16</td>\n",
       "      <td>2021</td>\n",
       "    </tr>\n",
       "    <tr>\n",
       "      <th>180</th>\n",
       "      <td>180</td>\n",
       "      <td>5.16</td>\n",
       "      <td>8.81</td>\n",
       "      <td>8.19</td>\n",
       "      <td>5.51</td>\n",
       "      <td>2021</td>\n",
       "    </tr>\n",
       "    <tr>\n",
       "      <th>181</th>\n",
       "      <td>181</td>\n",
       "      <td>4.27</td>\n",
       "      <td>10.40</td>\n",
       "      <td>5.32</td>\n",
       "      <td>4.59</td>\n",
       "      <td>2021</td>\n",
       "    </tr>\n",
       "  </tbody>\n",
       "</table>\n",
       "<p>182 rows × 6 columns</p>\n",
       "</div>"
      ],
      "text/plain": [
       "     Participant_id  Reading_NoInt  Naming_Int  Naming_NoInt  Reading_Int  \\\n",
       "0                 0           4.16        6.76          4.45         4.65   \n",
       "1                 1           4.35        7.73          4.78         4.46   \n",
       "2                 2           3.60        7.00          4.00         3.50   \n",
       "3                 3           3.90        9.03          4.60         6.30   \n",
       "4                 4           4.22        9.98          6.83         6.24   \n",
       "..              ...            ...         ...           ...          ...   \n",
       "177             177           4.30        7.08          6.25         4.28   \n",
       "178             178           4.75        9.66          6.12         5.49   \n",
       "179             179           4.98        7.52          6.73         5.16   \n",
       "180             180           5.16        8.81          8.19         5.51   \n",
       "181             181           4.27       10.40          5.32         4.59   \n",
       "\n",
       "     Year  \n",
       "0    2015  \n",
       "1    2015  \n",
       "2    2015  \n",
       "3    2015  \n",
       "4    2015  \n",
       "..    ...  \n",
       "177  2021  \n",
       "178  2021  \n",
       "179  2021  \n",
       "180  2021  \n",
       "181  2021  \n",
       "\n",
       "[182 rows x 6 columns]"
      ]
     },
     "execution_count": 154,
     "metadata": {},
     "output_type": "execute_result"
    }
   ],
   "source": [
    "# Starter code 2...\n",
    "\n",
    "# Make a new column using the dataframe indices as particpant numbers\n",
    "\n",
    "#df.index.name = 'Participant_id'\n",
    "#df = df.reset_index()\n",
    "\n",
    "#df.reset_index(inplace = True)\n",
    "# NOTE: This line does exactly the same thing as the line above:\n",
    "# it replaces the original df with a new df with the updated index. That's what\n",
    "# \"inplace = True\" means. Or, you can just assign the dataframe with the updated index\n",
    "# to a new dataframe with the same name as the old dataframe, which is what I did above.\n",
    "# The end result is the same.\n",
    "\n",
    "df"
   ]
  },
  {
   "cell_type": "markdown",
   "id": "51655ceb",
   "metadata": {},
   "source": [
    "## Stroop challenge 2 (Advanced!!!):\n",
    "\n",
    "Make a new dataframe which shows the mean response time (in seconds) for each task for each year."
   ]
  },
  {
   "cell_type": "code",
   "execution_count": 84,
   "id": "77fcb93b",
   "metadata": {},
   "outputs": [
    {
     "name": "stdout",
     "output_type": "stream",
     "text": [
      "Year  task         \n",
      "2015  Naming_Int        8.617143\n",
      "      Naming_NoInt      5.123571\n",
      "      Reading_Int       4.446429\n",
      "      Reading_NoInt     3.951429\n",
      "2016  Naming_Int        8.859268\n",
      "      Naming_NoInt      5.405610\n",
      "      Reading_Int       5.340000\n",
      "      Reading_NoInt     4.076098\n",
      "2017  Naming_Int        9.311765\n",
      "      Naming_NoInt      5.771176\n",
      "      Reading_Int       5.492353\n",
      "      Reading_NoInt     4.414412\n",
      "2018  Naming_Int        9.372667\n",
      "      Naming_NoInt      5.298000\n",
      "      Reading_Int       4.938667\n",
      "      Reading_NoInt     3.886000\n",
      "2019  Naming_Int        9.536087\n",
      "      Naming_NoInt      6.345652\n",
      "      Reading_Int       6.090870\n",
      "      Reading_NoInt     4.935652\n",
      "2020  Naming_Int        9.740833\n",
      "      Naming_NoInt      5.962500\n",
      "      Reading_Int       4.956667\n",
      "      Reading_NoInt     4.395000\n",
      "2021  Naming_Int       10.105484\n",
      "      Naming_NoInt      6.387742\n",
      "      Reading_Int       7.038065\n",
      "      Reading_NoInt     4.842581\n",
      "Name: RT, dtype: float64\n"
     ]
    }
   ],
   "source": [
    "## For each year, calculate the mean RT for each task\n",
    "\n",
    "## Excluding id from this calculation\n",
    "\n",
    "mean_RT_per_year = df_long.groupby(['Year', 'task'])['RT'].mean()\n",
    "\n",
    "print(mean_RT_per_year)"
   ]
  }
 ],
 "metadata": {
  "kernelspec": {
   "display_name": "Python 3",
   "language": "python",
   "name": "python3"
  },
  "language_info": {
   "codemirror_mode": {
    "name": "ipython",
    "version": 3
   },
   "file_extension": ".py",
   "mimetype": "text/x-python",
   "name": "python",
   "nbconvert_exporter": "python",
   "pygments_lexer": "ipython3",
   "version": "3.12.7"
  }
 },
 "nbformat": 4,
 "nbformat_minor": 5
}
